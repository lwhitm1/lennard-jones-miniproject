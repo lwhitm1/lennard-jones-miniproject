{
 "cells": [
  {
   "cell_type": "markdown",
   "id": "fb613def",
   "metadata": {},
   "source": [
    "### Analytical approximation "
   ]
  },
  {
   "cell_type": "markdown",
   "id": "67170b42",
   "metadata": {},
   "source": [
    "Define the switching functions, with both the soft core free energy functional form, and the switches, as descrived in the GROMACS manual. The sigmas and epsilons should be roughly the $\\epsilon_{ij}$s between the carbons and the water oxygen.\n",
    "\n",
    "Modifiers: https://manual.gromacs.org/current/reference-manual/functions/nonbonded-interactions.html\n",
    "\n",
    "SC: https://manual.gromacs.org/documentation/nightly/reference-manual/functions/free-energy-interactions.html#soft-core-interactions-beutler-et-al\n"
   ]
  },
  {
   "cell_type": "code",
   "execution_count": null,
   "id": "cda939e9",
   "metadata": {},
   "outputs": [],
   "source": [
    "# for potential switch\n",
    "def u_lj_sc_shift(r, lam, sigma, epsilon, vdw_switch, vdw, alpha):\n",
    "    \n",
    "    # Soft core correction: calc r_A and r_B\n",
    "    r_A = ((alpha * sigma**6 * lam + r**6)**(1/6))\n",
    "    r_B = ((alpha * sigma**6 * (1 - lam) + r**6)**(1/6))\n",
    "\n",
    "    # Hard core vdw \n",
    "    V_A = 4 * epsilon * ((sigma / r_A)**12 - (sigma / r_A)**6)\n",
    "    V_B = 4 * epsilon * ((sigma / r_B)**12 - (sigma / r_B)**6)\n",
    "\n",
    "    # Potential switch function\n",
    "    if r < vdw_switch:\n",
    "        S_v = 1\n",
    "    elif vdw_switch <= r < vdw:\n",
    "        x = (r - vdw_switch) / (vdw - vdw_switch)\n",
    "        S_v = 1 - 10 * x**3 + 15 * x**4 - 6 * x**5\n",
    "    else:\n",
    "        S_v = 0\n",
    "\n",
    "    # Compute the total potential\n",
    "    potential = (1 - lam) * V_A + lam * V_B\n",
    "    potential *= S_v\n",
    "\n",
    "    return potential\n"
   ]
  },
  {
   "cell_type": "code",
   "execution_count": null,
   "id": "0d857d9c",
   "metadata": {},
   "outputs": [],
   "source": [
    "# for force switch\n",
    "def u_lj_sc_shift(r, lam, sigma, epsilon, vdw_switch, vdw, alpha):\n",
    "    \n",
    "    # Soft core correction: calc r_A and r_B\n",
    "    r_A = ((alpha * sigma**6 * lam + r**6)**(1/6))\n",
    "    r_B = ((alpha * sigma**6 * (1 - lam) + r**6)**(1/6))\n",
    "\n",
    "    # Hard core vdw \n",
    "    V_A = 4 * epsilon * ((sigma / r_A)**12 - (sigma / r_A)**6)\n",
    "    V_B = 4 * epsilon * ((sigma / r_B)**12 - (sigma / r_B)**6)\n",
    "\n",
    "    # Constantd (given by boundary regions)\n",
    "    A = - alpha * ((alpha + 4) * vdw - (alpha + 1) vdw_switch) / vdw ** (alpha + 2) * (vdw - vdw_switch) ** 2\n",
    "    B = alpha * ((alpha + 3) * vdw - (alpha + 1) * vdw_switch) / vdw ** (alpha + 2) * (vdw - vdw_switch) ** 3\n",
    "\n",
    "    # force switch function\n",
    "    if r < vdw_switch:\n",
    "        S_f = 1\n",
    "    elif vdw_switch <= r < vdw:\n",
    "        S_f = A * (r - vdw_switch) ** 2 + B * (r - vdw_switch) ** 3\n",
    "    else:\n",
    "        S_f = 0\n",
    "\n",
    "    # Compute the total potential\n",
    "    potential = (1 - lam) * V_A + lam * V_B\n",
    "    potential *= S_f\n",
    "\n",
    "    return potential\n"
   ]
  },
  {
   "cell_type": "markdown",
   "id": "83eca7d6",
   "metadata": {},
   "source": [
    "Define the derivative of the energy function $\\frac{dU(r,\\lambda)}{d\\lambda}$ for each of the switching functions."
   ]
  },
  {
   "cell_type": "code",
   "execution_count": null,
   "id": "7b77a951",
   "metadata": {},
   "outputs": [],
   "source": [
    "def u_lj_sc_shift(r, lam, sigma, epsilon, vdw_switch, vdw, alpha):\n",
    "     # Soft core correction: calc r_A and r_B\n",
    "    r_A = ((alpha * sigma**6 * lam + r**6)**(1/6))\n",
    "    r_B = ((alpha * sigma**6 * (1 - lam) + r**6)**(1/6))\n",
    "\n",
    "    # Hard core vdw [potentials]\n",
    "    V_A = 4 * epsilon * ((sigma / r_A)**12 - (sigma / r_A)**6)\n",
    "    V_B = 4 * epsilon * ((sigma / r_B)**12 - (sigma / r_B)**6)\n",
    "\n",
    "    # Derivative of the potential\n",
    "    dU_dlam = V_B - V_A\n",
    "\n",
    "    return dU_dlam"
   ]
  },
  {
   "cell_type": "markdown",
   "id": "0ac853b2",
   "metadata": {},
   "source": [
    "Define the average of the derivative with respect to $\\lambda$, $\\left \\langle \\frac{dU}{d\\lambda} \\right\\rangle$, averaged over the configurations of all the water/solvent in the simulation. Here, because we are not calculating a precise average over a simulation, we have to estimate what this expectation value would be.  \n",
    "\n",
    "One approximate value would be to approximate $\\left \\langle \\frac{dU}{d\\lambda} \\right\\rangle$ as $\\int_0^{\\infty} \\frac{dU}{d\\lambda} g_0(r) 4\\pi r^2 dr$, where $g_0(r)$ is the zeroth order (or pairwise) approximation to the radial distribution function, with $g_0(r) = \\rho e^{-\\beta U(r,\\lambda)}$ with the $U(r,\\lambda)$ of water and LJ particle defined above. This approximate distribution accounts for pairwise interactions between water, but does not include contributions to the partition function for 3 way particle interactions. But the average integral should converge."
   ]
  },
  {
   "cell_type": "markdown",
   "id": "564f77fe",
   "metadata": {},
   "source": [
    "Once one calculates this average, then $\\Delta G = \\int_{\\lambda=0}^{1} \\left \\langle \\frac{dU}{d\\lambda} \\right\\rangle d\\lambda$."
   ]
  },
  {
   "cell_type": "code",
   "execution_count": null,
   "id": "562f4113",
   "metadata": {},
   "outputs": [],
   "source": [
    "import numpy as np\n",
    "import scipy.integrate as spi #????\n",
    "def avg_derivative(sigma, epsilon, alpha, lam, rho, k_B, T):\n",
    "    # Soft core correction: calc r_A and r_B\n",
    "    r_A = ((alpha * sigma**6 * lam + r**6)**(1/6))\n",
    "    r_B = ((alpha * sigma**6 * (1 - lam) + r**6)**(1/6))\n",
    "\n",
    "    # Hard core vdw [potentials]\n",
    "    V_A = 4 * epsilon * ((sigma / r_A)**12 - (sigma / r_A)**6)\n",
    "    V_B = 4 * epsilon * ((sigma / r_B)**12 - (sigma / r_B)**6)\n",
    "\n",
    "    # Potential\n",
    "    U_r_lam = (1 - lam) * V_A + lam * V_B\n",
    "\n",
    "    # RDF\n",
    "    g_0_r = rho * np.exp(-(1/(k_B * T)) * U_r_lam)\n",
    "\n",
    "    # Integral\n",
    "    val = (V_B-V_A) * g_0_r * 4 * np.pi * r**2\n",
    "\n",
    "    #Do integration\n",
    "    integral = spi.quad(val, 0, np.inf)\n",
    "\n",
    "\n",
    "\n",
    "\n"
   ]
  },
  {
   "cell_type": "markdown",
   "id": "fc78c6d3",
   "metadata": {},
   "source": [
    "The effects of the cutoff are partially corrected by the tail correction factor, which uses the same formula, but approximates $g(r)=1$.  i.e. it is a correction to $U(r,\\lambda)$ of $\\int_{r_{switch}}^{\\infty} U(r,\\lambda) 4\\pi r^2 dr$, and a correction to $\\frac{dU}{d\\lambda}(r,\\lambda)$ of $\\int_{r_{switch}}^{\\infty} \\frac{dU(r,\\lambda)}{d\\lambda} 4\\pi r^2 dr$.  This is at least for the ``potential-switch``- I will have to check the code (maybe it's in the documentation?) for how this is implemented with ``potential-shift`` and ``force-shift``, since the potential is changing even inside $r_{switch}$!"
   ]
  },
  {
   "cell_type": "markdown",
   "id": "f03e3367",
   "metadata": {},
   "source": []
  }
 ],
 "metadata": {
  "kernelspec": {
   "display_name": "Python 3 (ipykernel)",
   "language": "python",
   "name": "python3"
  },
  "language_info": {
   "codemirror_mode": {
    "name": "ipython",
    "version": 3
   },
   "file_extension": ".py",
   "mimetype": "text/x-python",
   "name": "python",
   "nbconvert_exporter": "python",
   "pygments_lexer": "ipython3",
   "version": "3.12.3"
  }
 },
 "nbformat": 4,
 "nbformat_minor": 5
}
