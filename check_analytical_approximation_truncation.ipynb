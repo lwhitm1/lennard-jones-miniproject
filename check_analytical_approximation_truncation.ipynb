{
 "cells": [
  {
   "cell_type": "markdown",
   "id": "fb613def",
   "metadata": {},
   "source": [
    "### Analytical approximation "
   ]
  },
  {
   "cell_type": "markdown",
   "id": "67170b42",
   "metadata": {},
   "source": [
    "Define the switching functions, with both the soft core free energy functional form, and the switches, as descrived in the GROMACS manual. The sigmas and epsilons should be roughly the $\\epsilon_{ij}$s between the carbons and the water oxygen.\n",
    "\n",
    "Modifiers: https://manual.gromacs.org/current/reference-manual/functions/nonbonded-interactions.html\n",
    "\n",
    "SC: https://manual.gromacs.org/documentation/nightly/reference-manual/functions/free-energy-interactions.html#soft-core-interactions-beutler-et-al\n"
   ]
  },
  {
   "cell_type": "code",
   "execution_count": null,
   "id": "cda939e9",
   "metadata": {},
   "outputs": [],
   "source": [
    "# for potential switch\n",
    "def u_lj_sc_shift(r, lam, sigma, epsilon, vdw_switch, vdw, alpha, disp_corr=False):\n",
    "    \n",
    "    # Soft core correction: calc r_A and r_B\n",
    "    r_A = ((alpha * sigma**6 * lam + r**6)**(1/6))\n",
    "    r_B = ((alpha * sigma**6 * (1 - lam) + r**6)**(1/6))\n",
    "\n",
    "    # Hard core vdw \n",
    "    V_A = 4 * epsilon * ((sigma / r_A)**12 - (sigma / r_A)**6)\n",
    "    V_B = 4 * epsilon * ((sigma / r_B)**12 - (sigma / r_B)**6)\n",
    "\n",
    "    # Potential switch function\n",
    "    if r < vdw_switch:\n",
    "        S_v = 1\n",
    "    elif vdw_switch <= r < vdw:\n",
    "        x = (r - vdw_switch) / (vdw - vdw_switch)\n",
    "        S_v = 1 - 10 * x**3 + 15 * x**4 - 6 * x**5\n",
    "    else:\n",
    "        S_v = 0\n",
    "\n",
    "    # Compute the total potential\n",
    "    potential = (1 - lam) * V_A + lam * V_B\n",
    "    potential *= S_v\n",
    "\n",
    "    # Dispersion correction\n",
    "    if disp_corr and r >= vdw_switch:\n",
    "        disp_corr = 4 * np.pi * epsilon * (sigma**6 / r**6) * ((1/3) * ((sigma/r)**6) - 1)\n",
    "        potential -= disp_corr\n",
    "\n",
    "    return potential\n"
   ]
  },
  {
   "cell_type": "code",
   "execution_count": null,
   "id": "0d857d9c",
   "metadata": {},
   "outputs": [],
   "source": [
    "# for force switch\n",
    "def u_lj_sc_shift(r, lam, sigma, epsilon, vdw_switch, vdw, alpha):\n",
    "    \n",
    "    # Soft core correction: calc r_A and r_B\n",
    "    r_A = ((alpha * sigma**6 * lam + r**6)**(1/6))\n",
    "    r_B = ((alpha * sigma**6 * (1 - lam) + r**6)**(1/6))\n",
    "\n",
    "    # Hard core vdw \n",
    "    V_A = 4 * epsilon * ((sigma / r_A)**12 - (sigma / r_A)**6)\n",
    "    V_B = 4 * epsilon * ((sigma / r_B)**12 - (sigma / r_B)**6)\n",
    "\n",
    "    # Constantd (given by boundary regions)\n",
    "    A = - alpha * ((alpha + 4) * vdw - (alpha + 1) vdw_switch) / vdw ** (alpha + 2) * (vdw - vdw_switch) ** 2\n",
    "    B = alpha * ((alpha + 3) * vdw - (alpha + 1) * vdw_switch) / vdw ** (alpha + 2) * (vdw - vdw_switch) ** 3\n",
    "\n",
    "    # force switch function\n",
    "    if r < vdw_switch:\n",
    "        S_f = 1\n",
    "    elif vdw_switch <= r < vdw:\n",
    "        S_f = A * (r - vdw_switch) ** 2 + B * (r - vdw_switch) ** 3\n",
    "    else:\n",
    "        S_f = 0\n",
    "\n",
    "    # Compute the total potential\n",
    "    potential = (1 - lam) * V_A + lam * V_B\n",
    "    potential *= S_f\n",
    "\n",
    "    return potential\n"
   ]
  },
  {
   "cell_type": "markdown",
   "id": "83eca7d6",
   "metadata": {},
   "source": [
    "Define the derivative of the energy function $\\frac{dU(r,\\lambda)}{d\\lambda}$ for each of the switching functions."
   ]
  },
  {
   "cell_type": "code",
   "execution_count": null,
   "id": "7b77a951",
   "metadata": {},
   "outputs": [],
   "source": [
    "# potential switch\n",
    "def u_lj_sc_shift(r, lam, sigma, epsilon, vdw_switch, vdw, alpha, disp_corr):\n",
    "     # Soft core correction: calc r_A and r_B\n",
    "    r_A = ((alpha * sigma**6 * lam + r**6)**(1/6))\n",
    "    r_B = ((alpha * sigma**6 * (1 - lam) + r**6)**(1/6))\n",
    "\n",
    "    # Hard core vdw [potentials]\n",
    "    V_A = 4 * epsilon * ((sigma / r_A)**12 - (sigma / r_A)**6)\n",
    "    V_B = 4 * epsilon * ((sigma / r_B)**12 - (sigma / r_B)**6)\n",
    "\n",
    "    # Derivative of the potential\n",
    "    dU_dlam = V_B - V_A\n",
    "\n",
    "    # Optional dispersion correction\n",
    "    if disp_corr and r >= vdw_switch:\n",
    "        disp_corr_deriv = 4 * np.pi * epsilon * (sigma**6 / r**6) * ((1/3) * ((sigma/r)**6) - 1)\n",
    "        dU_dlam -= disp_corr_deriv\n",
    "        \n",
    "    return dU_dlam"
   ]
  },
  {
   "cell_type": "code",
   "execution_count": null,
   "id": "61b8133a",
   "metadata": {},
   "outputs": [],
   "source": [
    "# force switch (assumes rho is 1)\n",
    "def u_lj_sc_shift(r, lam, sigma, epsilon, vdw_switch, vdw, alpha, p=1):\n",
    "     # Soft core correction: calc r_A and r_B\n",
    "    r_A = ((alpha * sigma**6 * lam + r**6)**(1/6))\n",
    "    r_B = ((alpha * sigma**6 * (1 - lam) + r**6)**(1/6))\n",
    "\n",
    "    # Hard core vdw [potentials]\n",
    "    V_A = 4 * epsilon * ((sigma / r_A)**12 - (sigma / r_A)**6)\n",
    "    V_B = 4 * epsilon * ((sigma / r_B)**12 - (sigma / r_B)**6)\n",
    "\n",
    "    # Derivatives of V_A and V_B with respect to r_A and r_B\n",
    "    dV_A_drA = 4 * epsilon * (-12 * sigma**12 / r_A**13 + 6 * sigma**6 / r_A**7)\n",
    "    dV_B_drB = 4 * epsilon * (-12 * sigma**12 / r_B**13 + 6 * sigma**6 / r_B**7)\n",
    "\n",
    "    # Derivatives of r_A and r_B with respect to lambda\n",
    "    drA_dlambda = (alpha * sigma**6 * p * lam**(p-1)) / (6 * (alpha * sigma**6 * lam**p + r**6)**(5/6))\n",
    "    drB_dlambda = -(alpha * sigma**6 * p * (1 - lam)**(p-1)) / (6 * (alpha * sigma**6 * (1 - lam)**p + r**6)**(5/6))\n",
    "\n",
    "    # Derivative of the potential\n",
    "    dU_dlam = -V_A + V_B + (1 - lam) * dV_A_drA * drA_dlambda + lam * dV_B_drB * drB_dlambda\n",
    "\n",
    "    return dU_dlam"
   ]
  },
  {
   "cell_type": "markdown",
   "id": "0ac853b2",
   "metadata": {},
   "source": [
    "Define the average of the derivative with respect to $\\lambda$, $\\left \\langle \\frac{dU}{d\\lambda} \\right\\rangle$, averaged over the configurations of all the water/solvent in the simulation. Here, because we are not calculating a precise average over a simulation, we have to estimate what this expectation value would be.  \n",
    "\n",
    "One approximate value would be to approximate $\\left \\langle \\frac{dU}{d\\lambda} \\right\\rangle$ as $\\int_0^{\\infty} \\frac{dU}{d\\lambda} g_0(r) 4\\pi r^2 dr$, where $g_0(r)$ is the zeroth order (or pairwise) approximation to the radial distribution function, with $g_0(r) = \\rho e^{-\\beta U(r,\\lambda)}$ with the $U(r,\\lambda)$ of water and LJ particle defined above. This approximate distribution accounts for pairwise interactions between water, but does not include contributions to the partition function for 3 way particle interactions. But the average integral should converge."
   ]
  },
  {
   "cell_type": "markdown",
   "id": "564f77fe",
   "metadata": {},
   "source": [
    "Once one calculates this average, then $\\Delta G = \\int_{\\lambda=0}^{1} \\left \\langle \\frac{dU}{d\\lambda} \\right\\rangle d\\lambda$."
   ]
  },
  {
   "cell_type": "code",
   "execution_count": null,
   "id": "9a63a44d",
   "metadata": {},
   "outputs": [],
   "source": [
    "#potential switch\n",
    "import numpy as np\n",
    "import scipy.integrate as spi #????\n",
    "def avg_derivative(sigma, epsilon, alpha, lam, rho, k_B, T, p=1):\n",
    "    def integrand(r):\n",
    "        # Calculate the derivative of the potential\n",
    "        dU_dlam = u_lj_sc_shift(r, lam, sigma, epsilon, alpha, p)\n",
    "        \n",
    "        # Soft core correction: calc r_A and r_B\n",
    "        r_A = ((alpha * sigma**6 * lam + r**6)**(1/6))\n",
    "        r_B = ((alpha * sigma**6 * (1 - lam) + r**6)**(1/6))\n",
    "\n",
    "        # Hard core vdw [potentials]\n",
    "        V_A = 4 * epsilon * ((sigma / r_A)**12 - (sigma / r_A)**6)\n",
    "        V_B = 4 * epsilon * ((sigma / r_B)**12 - (sigma / r_B)**6)\n",
    "\n",
    "        # Potential\n",
    "        U_r_lam = (1 - lam) * V_A + lam * V_B\n",
    "\n",
    "        # RDF\n",
    "        g_0_r = rho * np.exp(-(1 / (k_B * T)) * U_r_lam)\n",
    "\n",
    "        return dU_dlam * g_0_r * 4 * np.pi * r**2\n",
    "\n",
    "    # Integrate from 0 to infinity\n",
    "    integral, _ = spi.quad(integrand, 0, np.inf)\n",
    "    return integral"
   ]
  },
  {
   "cell_type": "code",
   "execution_count": null,
   "id": "b118a820",
   "metadata": {},
   "outputs": [],
   "source": [
    "# force switch\n",
    "import numpy as np\n",
    "import scipy.integrate as spi #????\n",
    "def avg_derivative(sigma, epsilon, alpha, lam, rho, k_B, T, p=1):\n",
    "    def integrand(r):\n",
    "        # Calculate the derivative of the potential\n",
    "        dU_dlam = u_lj_sc_shift(r, lam, sigma, epsilon, vdw_switch, vdw, alpha, p)\n",
    "        \n",
    "        # Soft core correction: calc r_A and r_B\n",
    "        r_A = ((alpha * sigma**6 * lam + r**6)**(1/6))\n",
    "        r_B = ((alpha * sigma**6 * (1 - lam) + r**6)**(1/6))\n",
    "\n",
    "        # Hard core vdw [potentials]\n",
    "        V_A = 4 * epsilon * ((sigma / r_A)**12 - (sigma / r_A)**6)\n",
    "        V_B = 4 * epsilon * ((sigma / r_B)**12 - (sigma / r_B)**6)\n",
    "\n",
    "        # Potential\n",
    "        U_r_lam = (1 - lam) * V_A + lam * V_B\n",
    "\n",
    "        # RDF\n",
    "        g_0_r = rho * np.exp(-(1 / (k_B * T)) * U_r_lam)\n",
    "\n",
    "        return dU_dlam * g_0_r * 4 * np.pi * r**2\n",
    "\n",
    "    # Integrate from 0 to infinity\n",
    "    integral, _ = spi.quad(integrand, 0, np.inf)\n",
    "    return integral"
   ]
  },
  {
   "cell_type": "markdown",
   "id": "fc78c6d3",
   "metadata": {},
   "source": [
    "The effects of the cutoff are partially corrected by the tail correction factor, which uses the same formula, but approximates $g(r)=1$.  i.e. it is a correction to $U(r,\\lambda)$ of $\\int_{r_{switch}}^{\\infty} U(r,\\lambda) 4\\pi r^2 dr$, and a correction to $\\frac{dU}{d\\lambda}(r,\\lambda)$ of $\\int_{r_{switch}}^{\\infty} \\frac{dU(r,\\lambda)}{d\\lambda} 4\\pi r^2 dr$.  This is at least for the ``potential-switch``- I will have to check the code (maybe it's in the documentation?) for how this is implemented with ``potential-shift`` and ``force-shift``, since the potential is changing even inside $r_{switch}$!"
   ]
  },
  {
   "cell_type": "markdown",
   "id": "f03e3367",
   "metadata": {},
   "source": []
  }
 ],
 "metadata": {
  "kernelspec": {
   "display_name": "Python 3 (ipykernel)",
   "language": "python",
   "name": "python3"
  },
  "language_info": {
   "codemirror_mode": {
    "name": "ipython",
    "version": 3
   },
   "file_extension": ".py",
   "mimetype": "text/x-python",
   "name": "python",
   "nbconvert_exporter": "python",
   "pygments_lexer": "ipython3",
   "version": "3.12.3"
  }
 },
 "nbformat": 4,
 "nbformat_minor": 5
}
